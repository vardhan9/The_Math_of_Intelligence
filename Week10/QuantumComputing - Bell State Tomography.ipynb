{
 "cells": [
  {
   "cell_type": "markdown",
   "metadata": {},
   "source": [
    "# Quantum Computing"
   ]
  },
  {
   "cell_type": "markdown",
   "metadata": {},
   "source": [
    "## Bell State Tomography"
   ]
  },
  {
   "cell_type": "markdown",
   "metadata": {},
   "source": [
    "### Introduction - Theoretical background\n",
    "\n",
    "#### Bell state: \n",
    "The **Bell states** are a concept in quantum information science and represent the **simplest examples of entanglement**. [...] An EPR pair is a **pair of qubits** (or quantum bits) that are in a Bell state together, that is, **entangled with each other.** Unlike classical phenomena such as the nuclear, electromagnetic, and gravitational fields, entanglement is invariant under distance of separation[dubious – discuss] and is not subject to relativistic limitations such as the speed of light (though the no-communication theorem prevents this behaviour being used to transmit information faster than light, which would violate causality). [1]\n",
    "\n",
    "<img src=\"http://image.wikifoundry.com/image/1/6ODbgusbPBYWhsqYZDIjPA10847/GW281H167\">\n",
    "\n",
    "#### Quantum state tomography:\n",
    "Quantum state tomography is the **process** by which an **identical ensemble\n",
    "of unknown quantum states is completely characterized.** A sequence of\n",
    "identical measurements within a series of different bases allow the reconstruction\n",
    "of a complete quantum wavefunction. [2]\n",
    "\n",
    "#### IBMQX2:\n",
    "It's a 5 Qubit real processor hosted at IBM, in which we could do our Quantum Computing experiments, pretty awesome.\n",
    "<img src=\"resources/ibmqx2.PNG\">\n",
    "\n",
    "#### Philosophy:\n",
    "The basic concept of our quantum program is an array of quantum circuits. The program workflow consists of three stages: Build, Compile, and Run. Build allows you to make different quantum circuits that represent the problem you are solving; Compile allows you to rewrite them to run on different backends (simulators/real chips of different quantum volumes, sizes, fidelity, etc); and Run launches the jobs. After the jobs have been run, the data is collected. There are methods for putting this data together, depending on the program. This either gives you the answer you wanted or allows you to make a better program for the next instance. [3]\n",
    "<img src=\"https://github.com/QISKit/qiskit-sdk-py/blob/master/images/circuit_representations.png?raw=true\" width=\"500px\">\n",
    "<img src=\"https://github.com/QISKit/qiskit-sdk-py/blob/master/images/unroller_backends.png?raw=true\" width=\"500px\">"
   ]
  },
  {
   "cell_type": "markdown",
   "metadata": {},
   "source": [
    "### Quantum Code"
   ]
  },
  {
   "cell_type": "markdown",
   "metadata": {},
   "source": [
    "#### Import dependencies"
   ]
  },
  {
   "cell_type": "code",
   "execution_count": 1,
   "metadata": {
    "collapsed": true
   },
   "outputs": [],
   "source": [
    "#Plotting library\n",
    "import matplotlib.pyplot as plt\n",
    "%matplotlib inline\n",
    "\n",
    "#Just numpy and scipy for linear algebra\n",
    "import numpy as np\n",
    "from scipy import linalg as la\n",
    "\n",
    "#Import Quantum Computing IBM API\n",
    "import sys\n",
    "sys.path.append(\"qiskit-sdk-py-master\")\n",
    "\n",
    "from qiskit import QuantumCircuit,QuantumProgram\n",
    "import Qconfig\n",
    "\n",
    "#Tomography library\n",
    "import tools.qcvv.tomography as tomo\n",
    "\n",
    "#Other packages\n",
    "from tools.visualization import plot_state,plot_histogram\n",
    "from tools.qi.qi import state_fidelity,concurrence,purity"
   ]
  },
  {
   "cell_type": "markdown",
   "metadata": {},
   "source": [
    "#### Bell states on the ibmqx2"
   ]
  },
  {
   "cell_type": "code",
   "execution_count": 2,
   "metadata": {},
   "outputs": [
    {
     "name": "stdout",
     "output_type": "stream",
     "text": [
      "-- Ignoring SSL errors.  This is not recommended --\n"
     ]
    }
   ],
   "source": [
    "#Quantum Program Class\n",
    "quantumProgram = QuantumProgram()\n",
    "\n",
    "quantumProgram.set_api(Qconfig.APItoken,Qconfig.config[\"url\"],verify=False) #Set the required API token"
   ]
  },
  {
   "cell_type": "markdown",
   "metadata": {},
   "source": [
    "#### Let's look at the available backends\n",
    "\n",
    "All the backends that are seen by QISKIT.\n",
    "\n",
    "If ibmqx2 available we choose that backend."
   ]
  },
  {
   "cell_type": "code",
   "execution_count": 3,
   "metadata": {},
   "outputs": [
    {
     "data": {
      "text/plain": [
       "['ibmqx3',\n",
       " 'ibmqx2',\n",
       " 'ibmqx_qasm_simulator',\n",
       " 'local_unitary_simulator',\n",
       " 'local_qasm_simulator']"
      ]
     },
     "execution_count": 3,
     "metadata": {},
     "output_type": "execute_result"
    }
   ],
   "source": [
    "quantumProgram.available_backends()"
   ]
  },
  {
   "cell_type": "code",
   "execution_count": 4,
   "metadata": {},
   "outputs": [
    {
     "data": {
      "text/plain": [
       "{'basis_gates': 'u1,u2,u3,cx,id',\n",
       " 'chip_name': 'Sparrow',\n",
       " 'coupling_map': [[0, 1], [0, 2], [1, 2], [3, 2], [3, 4], [4, 2]],\n",
       " 'description': '5 transmon bowtie',\n",
       " 'n_qubits': 5,\n",
       " 'name': 'ibmqx2',\n",
       " 'online_date': '2017-01-10T12:00:00.000Z',\n",
       " 'simulator': False,\n",
       " 'url': 'https://ibm.biz/qiskit-ibmqx2',\n",
       " 'version': '1'}"
      ]
     },
     "execution_count": 4,
     "metadata": {},
     "output_type": "execute_result"
    }
   ],
   "source": [
    "#Get the configuration of the backend\n",
    "conf = quantumProgram.get_backend_configuration(\"ibmqx2\",list_format=True)\n",
    "#Get some config params\n",
    "backend = conf['name']\n",
    "shots = 1000\n",
    "max_credits = 5\n",
    "n = conf['n_qubits']\n",
    "#Take a look at the config\n",
    "conf"
   ]
  },
  {
   "cell_type": "markdown",
   "metadata": {},
   "source": [
    "#### Set up the experiment & run one circuit\n",
    "\n",
    "**Processor register**: In computer architecture, a processor register is a quickly accessible location available to a computer's central processing unit (CPU). [4]\n",
    "\n",
    "**Quantum register**: A quantum register is a system comprising multiple qubits[1] and is the quantum analog of the classical processor register. [5]"
   ]
  },
  {
   "cell_type": "code",
   "execution_count": 5,
   "metadata": {},
   "outputs": [
    {
     "name": "stdout",
     "output_type": "stream",
     "text": [
      ">> new classical register created: processorRegister 5\n",
      ">> new quantum_register created: quantumRegister 5\n"
     ]
    }
   ],
   "source": [
    "processorRegister = quantumProgram.create_classical_register(name='processorRegister',size=n,verbose=True)\n",
    "quantumRegister = quantumProgram.create_quantum_register(name='quantumRegister',size=n,verbose=True)"
   ]
  },
  {
   "cell_type": "markdown",
   "metadata": {},
   "source": [
    "**Create quantum program circuit**: Create a empty Quantum Circuit in the Quantum Program. "
   ]
  },
  {
   "cell_type": "code",
   "execution_count": 6,
   "metadata": {
    "collapsed": true
   },
   "outputs": [],
   "source": [
    "bell = quantumProgram.create_circuit(name='bell',cregisters=[processorRegister],qregisters=[quantumRegister])"
   ]
  },
  {
   "cell_type": "markdown",
   "metadata": {},
   "source": [
    "**Create the logic**\n",
    "\n",
    "**h:** Apply H to q.<br>\n",
    "**Haddamard Gate (h):** The Hadamard transform is an example of a generalized class of Fourier transforms. It performs an orthogonal, symmetric, involutive, linear operation on 2m real numbers (or complex numbers, although the Hadamard matrices themselves are purely real). [6]\n",
    "\n",
    "<img src=\"https://upload.wikimedia.org/wikipedia/commons/thumb/a/aa/1010_0110_Walsh_spectrum_%28single_row%29.svg/1200px-1010_0110_Walsh_spectrum_%28single_row%29.svg.png\" width=\"500px\">\n",
    "<br><br>\n",
    "\n",
    "**cx:** Apply CNOT from ctl to tgt.<br>\n",
    "**CNOT:** In computing science, the controlled NOT gate (also C-NOT or CNOT) is a quantum gate that is an essential component in the construction of a quantum computer. It can be used to entangle and disentangle EPR states. Any quantum circuit can be simulated to an arbitrary degree of accuracy using a combination of CNOT gates and single qubit rotations. The CNOT gate is the \"quantization\" of a classical gate. [7]\n",
    "<img src=\"https://upload.wikimedia.org/wikipedia/en/thumb/5/58/Cnot-compared-to-xor.svg/1200px-Cnot-compared-to-xor.svg.png\" width=\"300px\">\n",
    "<br><br>\n",
    "**measure:** Measure quantum bit into classical bit (tuples)."
   ]
  },
  {
   "cell_type": "code",
   "execution_count": 7,
   "metadata": {
    "collapsed": true
   },
   "outputs": [],
   "source": [
    "#Haddamard Gate\n",
    "bell.h(quantumRegister[0])\n",
    "#CNOT\n",
    "bell.cx(quantumRegister[0],quantumRegister[1])\n",
    "#Measure\n",
    "bell.measure(quantumRegister[0],processorRegister[0])\n",
    "bell.measure(quantumRegister[1],processorRegister[1])\n",
    "\n",
    "circuits = ['bell']"
   ]
  },
  {
   "cell_type": "markdown",
   "metadata": {},
   "source": [
    "#### Execute the circuit!"
   ]
  },
  {
   "cell_type": "code",
   "execution_count": 8,
   "metadata": {
    "collapsed": true
   },
   "outputs": [],
   "source": [
    "result = quantumProgram.execute(name_of_circuits=circuits,backend=backend,max_credits=max_credits,wait=10,timeout=240)"
   ]
  },
  {
   "cell_type": "markdown",
   "metadata": {},
   "source": [
    "#### Take a look at the results"
   ]
  },
  {
   "cell_type": "code",
   "execution_count": 9,
   "metadata": {},
   "outputs": [
    {
     "name": "stdout",
     "output_type": "stream",
     "text": [
      "{'00001': 73, '00000': 479, '00011': 434, '00010': 38}\n"
     ]
    },
    {
     "data": {
      "image/png": "[encoded data removed]",
      "text/plain": [
       "<matplotlib.figure.Figure at 0x1dc70ea8b38>"
      ]
     },
     "metadata": {},
     "output_type": "display_data"
    }
   ],
   "source": [
    "print(result.get_counts(\"bell\"))\n",
    "plot_histogram(result.get_counts('bell'))"
   ]
  },
  {
   "cell_type": "markdown",
   "metadata": {},
   "source": [
    "#### Run tomograph\n",
    "\n",
    "**build state tomography circuits: **Add state tomography measurement circuits to a QuantumProgram.\n",
    "The quantum program must contain a circuit 'name', which is treated as a\n",
    "state preparation circuit. This function then appends the circuit with a\n",
    "tomographically overcomplete set of measurements in the Pauli basis for\n",
    "each qubit to be measured. For n-qubit tomography this result in 3^n\n",
    "measurement circuits being added to the quantum program.\n",
    "\n",
    "**fit tomography data:** Reconstruct a density matrix or process-matrix from tomography data.\n",
    "\n",
    "**state fidelity:** Return the state fidelity between two quantum states.\n",
    "\n",
    "**Fidelity between quantum states:** In quantum information theory, fidelity is a measure of the \"closeness\" of two quantum states. It is not a metric on the space of density matrices, but it can be used to define the Bures metric on this space. [8]\n",
    "\n",
    "# Your credits are not enough :( "
   ]
  },
  {
   "cell_type": "code",
   "execution_count": 10,
   "metadata": {
    "collapsed": true
   },
   "outputs": [],
   "source": [
    "def tomograph(meas_qubits):\n",
    "    print('meas qubits: %s' % meas_qubits)\n",
    "    tomo_labels = tomo.build_state_tomography_circuits(quantumProgram,\"bell_tomo\",meas_qubits,quantumRegister,processorRegister)\n",
    "\n",
    "    out = quantumProgram.execute(tomo_labels,backend,shots=shots,max_credits=max_credits,wait=20,timeout=20)\n",
    "\n",
    "    if(str(out.get_error()) == 'Time Out'):\n",
    "        print('Timed out, trying again')\n",
    "        #Same but more wait and more timeout\n",
    "        out = quantumProgram.execute(tomo_labels,backend,shots=shots,max_credits=max_credits,wait=40,timeout=400)\n",
    "    if(str(out) != 'ERROR'):\n",
    "        print('Everything is fine')\n",
    "        target = np.array([1.0,0.0,0.0,1.0]/np.sqrt(2.0))\n",
    "        bell_tomo_dat = tomo.fit_tomography_data(out,'bell_tomo',meas_qubits)\n",
    "        rho_fit = tomo.fit_tomography_data(bell_tomo_dat,method='wizard')\n",
    "        F_fit = state_fidelity(rho_fit,target)\n",
    "        print('fid = %s' % str(F_fit))\n",
    "        plot_state(rho_fit,\"paulivec\")\n",
    "        \n",
    "    return out"
   ]
  },
  {
   "cell_type": "code",
   "execution_count": 13,
   "metadata": {
    "scrolled": true
   },
   "outputs": [
    {
     "name": "stdout",
     "output_type": "stream",
     "text": [
      "meas qubits: [0, 1]\n",
      ">> created state tomography circuits for \"bell_tomo\"\n"
     ]
    },
    {
     "ename": "ResultError",
     "evalue": "'Your credits are not enough.'",
     "output_type": "error",
     "traceback": [
      "\u001b[1;31m----------------------------------------------------------------------\u001b[0m",
      "\u001b[1;31mResultError\u001b[0m                          Traceback (most recent call last)",
      "\u001b[1;32m<ipython-input-13-1ad85847deb3>\u001b[0m in \u001b[0;36m<module>\u001b[1;34m()\u001b[0m\n\u001b[0;32m      4\u001b[0m \u001b[1;33m\u001b[0m\u001b[0m\n\u001b[0;32m      5\u001b[0m \u001b[0mmeas_qubits\u001b[0m \u001b[1;33m=\u001b[0m \u001b[1;33m[\u001b[0m\u001b[1;36m0\u001b[0m\u001b[1;33m,\u001b[0m\u001b[1;36m1\u001b[0m\u001b[1;33m]\u001b[0m\u001b[1;33m\u001b[0m\u001b[0m\n\u001b[1;32m----> 6\u001b[1;33m \u001b[0mtomograph\u001b[0m\u001b[1;33m(\u001b[0m\u001b[0mmeas_qubits\u001b[0m\u001b[1;33m=\u001b[0m\u001b[0mmeas_qubits\u001b[0m\u001b[1;33m)\u001b[0m\u001b[1;33m\u001b[0m\u001b[0m\n\u001b[0m",
      "\u001b[1;32m<ipython-input-10-23ee1686c2fa>\u001b[0m in \u001b[0;36mtomograph\u001b[1;34m(meas_qubits)\u001b[0m\n\u001b[0;32m      3\u001b[0m     \u001b[0mtomo_labels\u001b[0m \u001b[1;33m=\u001b[0m \u001b[0mtomo\u001b[0m\u001b[1;33m.\u001b[0m\u001b[0mbuild_state_tomography_circuits\u001b[0m\u001b[1;33m(\u001b[0m\u001b[0mquantumProgram\u001b[0m\u001b[1;33m,\u001b[0m\u001b[1;34m\"bell_tomo\"\u001b[0m\u001b[1;33m,\u001b[0m\u001b[0mmeas_qubits\u001b[0m\u001b[1;33m,\u001b[0m\u001b[0mquantumRegister\u001b[0m\u001b[1;33m,\u001b[0m\u001b[0mprocessorRegister\u001b[0m\u001b[1;33m)\u001b[0m\u001b[1;33m\u001b[0m\u001b[0m\n\u001b[0;32m      4\u001b[0m \u001b[1;33m\u001b[0m\u001b[0m\n\u001b[1;32m----> 5\u001b[1;33m     \u001b[0mout\u001b[0m \u001b[1;33m=\u001b[0m \u001b[0mquantumProgram\u001b[0m\u001b[1;33m.\u001b[0m\u001b[0mexecute\u001b[0m\u001b[1;33m(\u001b[0m\u001b[0mtomo_labels\u001b[0m\u001b[1;33m,\u001b[0m\u001b[0mbackend\u001b[0m\u001b[1;33m,\u001b[0m\u001b[0mshots\u001b[0m\u001b[1;33m=\u001b[0m\u001b[0mshots\u001b[0m\u001b[1;33m,\u001b[0m\u001b[0mmax_credits\u001b[0m\u001b[1;33m=\u001b[0m\u001b[0mmax_credits\u001b[0m\u001b[1;33m,\u001b[0m\u001b[0mwait\u001b[0m\u001b[1;33m=\u001b[0m\u001b[1;36m20\u001b[0m\u001b[1;33m,\u001b[0m\u001b[0mtimeout\u001b[0m\u001b[1;33m=\u001b[0m\u001b[1;36m20\u001b[0m\u001b[1;33m)\u001b[0m\u001b[1;33m\u001b[0m\u001b[0m\n\u001b[0m\u001b[0;32m      6\u001b[0m \u001b[1;33m\u001b[0m\u001b[0m\n\u001b[0;32m      7\u001b[0m     \u001b[1;32mif\u001b[0m\u001b[1;33m(\u001b[0m\u001b[0mstr\u001b[0m\u001b[1;33m(\u001b[0m\u001b[0mout\u001b[0m\u001b[1;33m.\u001b[0m\u001b[0mget_error\u001b[0m\u001b[1;33m(\u001b[0m\u001b[1;33m)\u001b[0m\u001b[1;33m)\u001b[0m \u001b[1;33m==\u001b[0m \u001b[1;34m'Time Out'\u001b[0m\u001b[1;33m)\u001b[0m\u001b[1;33m:\u001b[0m\u001b[1;33m\u001b[0m\u001b[0m\n",
      "\u001b[1;32mC:\\Users\\Alber\\The_Math_of_Intelligence\\Week10\\qiskit-sdk-py-master\\qiskit\\_quantumprogram.py\u001b[0m in \u001b[0;36mexecute\u001b[1;34m(self, name_of_circuits, backend, config, wait, timeout, silent, basis_gates, coupling_map, initial_layout, shots, max_credits, seed)\u001b[0m\n\u001b[0;32m   1143\u001b[0m                      \u001b[0mcoupling_map\u001b[0m\u001b[1;33m=\u001b[0m\u001b[0mcoupling_map\u001b[0m\u001b[1;33m,\u001b[0m \u001b[0minitial_layout\u001b[0m\u001b[1;33m=\u001b[0m\u001b[0minitial_layout\u001b[0m\u001b[1;33m,\u001b[0m\u001b[1;33m\u001b[0m\u001b[0m\n\u001b[0;32m   1144\u001b[0m                      shots=shots, max_credits=max_credits, seed=seed)\n\u001b[1;32m-> 1145\u001b[1;33m         \u001b[0mresult\u001b[0m \u001b[1;33m=\u001b[0m \u001b[0mself\u001b[0m\u001b[1;33m.\u001b[0m\u001b[0mrun\u001b[0m\u001b[1;33m(\u001b[0m\u001b[0mqobj\u001b[0m\u001b[1;33m,\u001b[0m \u001b[0mwait\u001b[0m\u001b[1;33m=\u001b[0m\u001b[0mwait\u001b[0m\u001b[1;33m,\u001b[0m \u001b[0mtimeout\u001b[0m\u001b[1;33m=\u001b[0m\u001b[0mtimeout\u001b[0m\u001b[1;33m,\u001b[0m \u001b[0msilent\u001b[0m\u001b[1;33m=\u001b[0m\u001b[0msilent\u001b[0m\u001b[1;33m)\u001b[0m\u001b[1;33m\u001b[0m\u001b[0m\n\u001b[0m\u001b[0;32m   1146\u001b[0m         \u001b[1;32mreturn\u001b[0m \u001b[0mresult\u001b[0m\u001b[1;33m\u001b[0m\u001b[0m\n\u001b[0;32m   1147\u001b[0m \u001b[1;33m\u001b[0m\u001b[0m\n",
      "\u001b[1;32mC:\\Users\\Alber\\The_Math_of_Intelligence\\Week10\\qiskit-sdk-py-master\\qiskit\\_quantumprogram.py\u001b[0m in \u001b[0;36mrun\u001b[1;34m(self, qobj, wait, timeout, silent)\u001b[0m\n\u001b[0;32m    990\u001b[0m             \u001b[0moutput\u001b[0m \u001b[1;33m=\u001b[0m \u001b[0mself\u001b[0m\u001b[1;33m.\u001b[0m\u001b[0m__api\u001b[0m\u001b[1;33m.\u001b[0m\u001b[0mrun_job\u001b[0m\u001b[1;33m(\u001b[0m\u001b[0mjobs\u001b[0m\u001b[1;33m,\u001b[0m \u001b[0mbackend\u001b[0m\u001b[1;33m,\u001b[0m \u001b[0mshots\u001b[0m\u001b[1;33m,\u001b[0m \u001b[0mmax_credits\u001b[0m\u001b[1;33m)\u001b[0m\u001b[1;33m\u001b[0m\u001b[0m\n\u001b[0;32m    991\u001b[0m             \u001b[1;32mif\u001b[0m \u001b[1;34m'error'\u001b[0m \u001b[1;32min\u001b[0m \u001b[0moutput\u001b[0m\u001b[1;33m:\u001b[0m\u001b[1;33m\u001b[0m\u001b[0m\n\u001b[1;32m--> 992\u001b[1;33m                 \u001b[1;32mraise\u001b[0m \u001b[0mResultError\u001b[0m\u001b[1;33m(\u001b[0m\u001b[0moutput\u001b[0m\u001b[1;33m[\u001b[0m\u001b[1;34m'error'\u001b[0m\u001b[1;33m]\u001b[0m\u001b[1;33m)\u001b[0m\u001b[1;33m\u001b[0m\u001b[0m\n\u001b[0m\u001b[0;32m    993\u001b[0m             \u001b[0mqobj_result\u001b[0m \u001b[1;33m=\u001b[0m \u001b[0mself\u001b[0m\u001b[1;33m.\u001b[0m\u001b[0m_wait_for_job\u001b[0m\u001b[1;33m(\u001b[0m\u001b[0moutput\u001b[0m\u001b[1;33m[\u001b[0m\u001b[1;34m'id'\u001b[0m\u001b[1;33m]\u001b[0m\u001b[1;33m,\u001b[0m \u001b[0mwait\u001b[0m\u001b[1;33m=\u001b[0m\u001b[0mwait\u001b[0m\u001b[1;33m,\u001b[0m \u001b[0mtimeout\u001b[0m\u001b[1;33m=\u001b[0m\u001b[0mtimeout\u001b[0m\u001b[1;33m,\u001b[0m \u001b[0msilent\u001b[0m\u001b[1;33m=\u001b[0m\u001b[0msilent\u001b[0m\u001b[1;33m)\u001b[0m\u001b[1;33m\u001b[0m\u001b[0m\n\u001b[0;32m    994\u001b[0m         \u001b[1;32melse\u001b[0m\u001b[1;33m:\u001b[0m\u001b[1;33m\u001b[0m\u001b[0m\n",
      "\u001b[1;31mResultError\u001b[0m: 'Your credits are not enough.'"
     ]
    }
   ],
   "source": [
    "bell_tomo = quantumProgram.create_circuit(\"bell_tomo\",[quantumRegister],[processorRegister])\n",
    "bell_tomo.h(quantumRegister[0])\n",
    "bell_tomo.cx(quantumRegister[0],quantumRegister[1])\n",
    "\n",
    "meas_qubits = [0,1]\n",
    "tomograph(meas_qubits=meas_qubits)"
   ]
  },
  {
   "cell_type": "markdown",
   "metadata": {},
   "source": [
    "#### Run all gates"
   ]
  },
  {
   "cell_type": "code",
   "execution_count": null,
   "metadata": {
    "collapsed": true
   },
   "outputs": [],
   "source": [
    "for i in conf['coupling_map']:\n",
    "    meas_qubits = i\n",
    "    \n",
    "    tomograph(meas_qubits)\n",
    "    "
   ]
  },
  {
   "cell_type": "markdown",
   "metadata": {},
   "source": [
    "## References\n",
    "\n",
    "[1] <a href=\"https://en.wikipedia.org/wiki/Bell_state\">Wikipedia - Bell State</a>\n",
    "<br>\n",
    "[2] <a href=\"http://research.physics.illinois.edu/QI/Photonics/tomography-files/amo_tomo_chapter.pdf\">Photonic State Tomography - J. B. Altepeter et al.</a>\n",
    "<br>\n",
    "[3] <a href=\"https://github.com/QISKit/qiskit-sdk-py\">Github - QISKit</a>\n",
    "<br>\n",
    "[4] <a href=\"https://en.wikipedia.org/wiki/Processor_register\">Wikipedia - Processor Register</a>\n",
    "<br>\n",
    "[5] <a href=\"https://en.wikipedia.org/wiki/Quantum_register\">Wikipedia - Quantum Register</a>\n",
    "<br>\n",
    "[6] <a href=\"https://en.wikipedia.org/wiki/Hadamard_transform\">Wikipedia - Hadamard transform</a>\n",
    "<br>\n",
    "[7] <a href=\"https://en.wikipedia.org/wiki/Controlled_NOT_gate\">Wikipedia - CNOT</a>\n",
    "<br>\n",
    "[8] <a href=\"https://en.wikipedia.org/wiki/Fidelity_of_quantum_states\">Wikipedia - Fidelity of quantum states\n",
    "</a>\n"
   ]
  }
 ],
 "metadata": {
  "kernelspec": {
   "display_name": "Python 3",
   "language": "python",
   "name": "python3"
  },
  "language_info": {
   "codemirror_mode": {
    "name": "ipython",
    "version": 3
   },
   "file_extension": ".py",
   "mimetype": "text/x-python",
   "name": "python",
   "nbconvert_exporter": "python",
   "pygments_lexer": "ipython3",
   "version": "3.5.3"
  }
 },
 "nbformat": 4,
 "nbformat_minor": 2
}
